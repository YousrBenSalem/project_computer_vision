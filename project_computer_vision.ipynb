{
  "nbformat": 4,
  "nbformat_minor": 0,
  "metadata": {
    "colab": {
      "provenance": [],
      "gpuType": "T4"
    },
    "kernelspec": {
      "name": "python3",
      "display_name": "Python 3"
    },
    "language_info": {
      "name": "python"
    },
    "accelerator": "GPU"
  },
  "cells": [
    {
      "cell_type": "code",
      "execution_count": null,
      "metadata": {
        "colab": {
          "base_uri": "https://localhost:8080/"
        },
        "id": "N8xH8rbvfGbM",
        "outputId": "0c1d3da6-25a7-44ae-95ab-c22d1e2a3871"
      },
      "outputs": [
        {
          "output_type": "stream",
          "name": "stdout",
          "text": [
            "Cloning into 'object_detection-PLUS-distance_estimation-v1'...\n",
            "remote: Enumerating objects: 511, done.\u001b[K\n",
            "remote: Counting objects: 100% (184/184), done.\u001b[K\n",
            "remote: Compressing objects: 100% (114/114), done.\u001b[K\n",
            "remote: Total 511 (delta 86), reused 152 (delta 69), pack-reused 327\u001b[K\n",
            "Receiving objects: 100% (511/511), 91.97 MiB | 14.28 MiB/s, done.\n",
            "Resolving deltas: 100% (235/235), done.\n"
          ]
        }
      ],
      "source": [
        "#Lorsque vous exécutez cette commande, Git se connecte à l'URL spécifiée, télécharge tous les fichiers ainsi que l'ensemble de l'historique du référentiel, et crée une copie locale sur votre machine\n",
        "!git clone https://github.com/HassanBinHaroon/object_detection-PLUS-distance_estimation-v1.git"
      ]
    },
    {
      "cell_type": "code",
      "source": [
        "#utilisée dans des environnements de type Unix (comme Linux ou macOS) pour afficher le répertoire de travail actuel.\n",
        "!pwd"
      ],
      "metadata": {
        "colab": {
          "base_uri": "https://localhost:8080/"
        },
        "id": "SylKY27DfUY7",
        "outputId": "c1977753-4861-4e4a-e7fc-c58d76103b82"
      },
      "execution_count": null,
      "outputs": [
        {
          "output_type": "stream",
          "name": "stdout",
          "text": [
            "/content/object_detection-PLUS-distance_estimation-v1/distance-estimator\n"
          ]
        }
      ]
    },
    {
      "cell_type": "code",
      "source": [
        "#utilisée dans un environnement de script ou de terminal, et elle a pour but de changer le répertoire de travail actuel vers un répertoire spécifié.\n",
        "%cd object_detection-PLUS-distance_estimation-v1/object-detector"
      ],
      "metadata": {
        "colab": {
          "base_uri": "https://localhost:8080/"
        },
        "id": "AHbWDVyUfZBq",
        "outputId": "0e128db6-b459-4249-a8b4-192fcf63f1db"
      },
      "execution_count": null,
      "outputs": [
        {
          "output_type": "stream",
          "name": "stdout",
          "text": [
            "/content/object_detection-PLUS-distance_estimation-v1/distance-estimator/object_detection-PLUS-distance_estimation-v1/object-detector\n"
          ]
        }
      ]
    },
    {
      "cell_type": "code",
      "source": [
        "#pip va lire le fichier requirements.txt et installer toutes les dépendances listées avec les versions spécifiées dans ce fichier.\n",
        "#installer des dépendances Python spécifiées dans un fichier appelé requirements.txt.\n",
        "#Le fichier requirements.txt contient généralement une liste de noms de packages, chacun sur une ligne, et éventuellement avec des spécifications de version\n",
        "!pip install -r requirements.txt\n"
      ],
      "metadata": {
        "colab": {
          "base_uri": "https://localhost:8080/"
        },
        "id": "Nk8TI-kjfa7_",
        "outputId": "991c17c2-b544-4629-be2b-40cc25be2722"
      },
      "execution_count": null,
      "outputs": [
        {
          "output_type": "stream",
          "name": "stdout",
          "text": [
            "Requirement already satisfied: matplotlib>=3.2.2 in /usr/local/lib/python3.10/dist-packages (from -r requirements.txt (line 5)) (3.7.1)\n",
            "Requirement already satisfied: numpy>=1.18.5 in /usr/local/lib/python3.10/dist-packages (from -r requirements.txt (line 6)) (1.23.5)\n",
            "Requirement already satisfied: opencv-python>=4.1.1 in /usr/local/lib/python3.10/dist-packages (from -r requirements.txt (line 7)) (4.8.0.76)\n",
            "Requirement already satisfied: Pillow>=7.1.2 in /usr/local/lib/python3.10/dist-packages (from -r requirements.txt (line 8)) (9.4.0)\n",
            "Requirement already satisfied: PyYAML>=5.3.1 in /usr/local/lib/python3.10/dist-packages (from -r requirements.txt (line 9)) (6.0.1)\n",
            "Requirement already satisfied: requests>=2.23.0 in /usr/local/lib/python3.10/dist-packages (from -r requirements.txt (line 10)) (2.31.0)\n",
            "Requirement already satisfied: scipy>=1.4.1 in /usr/local/lib/python3.10/dist-packages (from -r requirements.txt (line 11)) (1.11.4)\n",
            "Requirement already satisfied: torch>=1.7.0 in /usr/local/lib/python3.10/dist-packages (from -r requirements.txt (line 12)) (2.1.0+cu118)\n",
            "Requirement already satisfied: torchvision>=0.8.1 in /usr/local/lib/python3.10/dist-packages (from -r requirements.txt (line 13)) (0.16.0+cu118)\n",
            "Requirement already satisfied: tqdm>=4.41.0 in /usr/local/lib/python3.10/dist-packages (from -r requirements.txt (line 14)) (4.66.1)\n",
            "Requirement already satisfied: protobuf<=3.20.1 in /usr/local/lib/python3.10/dist-packages (from -r requirements.txt (line 15)) (3.20.1)\n",
            "Requirement already satisfied: tensorboard>=2.4.1 in /usr/local/lib/python3.10/dist-packages (from -r requirements.txt (line 18)) (2.14.1)\n",
            "Requirement already satisfied: pandas>=1.1.4 in /usr/local/lib/python3.10/dist-packages (from -r requirements.txt (line 22)) (1.5.3)\n",
            "Requirement already satisfied: seaborn>=0.11.0 in /usr/local/lib/python3.10/dist-packages (from -r requirements.txt (line 23)) (0.12.2)\n",
            "Requirement already satisfied: ipython in /usr/local/lib/python3.10/dist-packages (from -r requirements.txt (line 35)) (7.34.0)\n",
            "Requirement already satisfied: psutil in /usr/local/lib/python3.10/dist-packages (from -r requirements.txt (line 36)) (5.9.5)\n",
            "Requirement already satisfied: thop in /usr/local/lib/python3.10/dist-packages (from -r requirements.txt (line 37)) (0.1.1.post2209072238)\n",
            "Requirement already satisfied: tree in /usr/local/lib/python3.10/dist-packages (from -r requirements.txt (line 42)) (0.2.4)\n",
            "Requirement already satisfied: xlsxwriter in /usr/local/lib/python3.10/dist-packages (from -r requirements.txt (line 43)) (3.1.9)\n",
            "Requirement already satisfied: contourpy>=1.0.1 in /usr/local/lib/python3.10/dist-packages (from matplotlib>=3.2.2->-r requirements.txt (line 5)) (1.2.0)\n",
            "Requirement already satisfied: cycler>=0.10 in /usr/local/lib/python3.10/dist-packages (from matplotlib>=3.2.2->-r requirements.txt (line 5)) (0.12.1)\n",
            "Requirement already satisfied: fonttools>=4.22.0 in /usr/local/lib/python3.10/dist-packages (from matplotlib>=3.2.2->-r requirements.txt (line 5)) (4.45.1)\n",
            "Requirement already satisfied: kiwisolver>=1.0.1 in /usr/local/lib/python3.10/dist-packages (from matplotlib>=3.2.2->-r requirements.txt (line 5)) (1.4.5)\n",
            "Requirement already satisfied: packaging>=20.0 in /usr/local/lib/python3.10/dist-packages (from matplotlib>=3.2.2->-r requirements.txt (line 5)) (23.2)\n",
            "Requirement already satisfied: pyparsing>=2.3.1 in /usr/local/lib/python3.10/dist-packages (from matplotlib>=3.2.2->-r requirements.txt (line 5)) (3.1.1)\n",
            "Requirement already satisfied: python-dateutil>=2.7 in /usr/local/lib/python3.10/dist-packages (from matplotlib>=3.2.2->-r requirements.txt (line 5)) (2.8.2)\n",
            "Requirement already satisfied: charset-normalizer<4,>=2 in /usr/local/lib/python3.10/dist-packages (from requests>=2.23.0->-r requirements.txt (line 10)) (3.3.2)\n",
            "Requirement already satisfied: idna<4,>=2.5 in /usr/local/lib/python3.10/dist-packages (from requests>=2.23.0->-r requirements.txt (line 10)) (3.6)\n",
            "Requirement already satisfied: urllib3<3,>=1.21.1 in /usr/local/lib/python3.10/dist-packages (from requests>=2.23.0->-r requirements.txt (line 10)) (2.0.7)\n",
            "Requirement already satisfied: certifi>=2017.4.17 in /usr/local/lib/python3.10/dist-packages (from requests>=2.23.0->-r requirements.txt (line 10)) (2023.11.17)\n",
            "Requirement already satisfied: filelock in /usr/local/lib/python3.10/dist-packages (from torch>=1.7.0->-r requirements.txt (line 12)) (3.13.1)\n",
            "Requirement already satisfied: typing-extensions in /usr/local/lib/python3.10/dist-packages (from torch>=1.7.0->-r requirements.txt (line 12)) (4.5.0)\n",
            "Requirement already satisfied: sympy in /usr/local/lib/python3.10/dist-packages (from torch>=1.7.0->-r requirements.txt (line 12)) (1.12)\n",
            "Requirement already satisfied: networkx in /usr/local/lib/python3.10/dist-packages (from torch>=1.7.0->-r requirements.txt (line 12)) (3.2.1)\n",
            "Requirement already satisfied: jinja2 in /usr/local/lib/python3.10/dist-packages (from torch>=1.7.0->-r requirements.txt (line 12)) (3.1.2)\n",
            "Requirement already satisfied: fsspec in /usr/local/lib/python3.10/dist-packages (from torch>=1.7.0->-r requirements.txt (line 12)) (2023.6.0)\n",
            "Requirement already satisfied: triton==2.1.0 in /usr/local/lib/python3.10/dist-packages (from torch>=1.7.0->-r requirements.txt (line 12)) (2.1.0)\n",
            "Requirement already satisfied: absl-py>=0.4 in /usr/local/lib/python3.10/dist-packages (from tensorboard>=2.4.1->-r requirements.txt (line 18)) (1.4.0)\n",
            "Requirement already satisfied: grpcio>=1.48.2 in /usr/local/lib/python3.10/dist-packages (from tensorboard>=2.4.1->-r requirements.txt (line 18)) (1.59.3)\n",
            "Requirement already satisfied: google-auth<3,>=1.6.3 in /usr/local/lib/python3.10/dist-packages (from tensorboard>=2.4.1->-r requirements.txt (line 18)) (2.17.3)\n",
            "Requirement already satisfied: google-auth-oauthlib<1.1,>=0.5 in /usr/local/lib/python3.10/dist-packages (from tensorboard>=2.4.1->-r requirements.txt (line 18)) (1.0.0)\n",
            "Requirement already satisfied: markdown>=2.6.8 in /usr/local/lib/python3.10/dist-packages (from tensorboard>=2.4.1->-r requirements.txt (line 18)) (3.5.1)\n",
            "Requirement already satisfied: setuptools>=41.0.0 in /usr/local/lib/python3.10/dist-packages (from tensorboard>=2.4.1->-r requirements.txt (line 18)) (67.7.2)\n",
            "Requirement already satisfied: six>1.9 in /usr/local/lib/python3.10/dist-packages (from tensorboard>=2.4.1->-r requirements.txt (line 18)) (1.16.0)\n",
            "Requirement already satisfied: tensorboard-data-server<0.8.0,>=0.7.0 in /usr/local/lib/python3.10/dist-packages (from tensorboard>=2.4.1->-r requirements.txt (line 18)) (0.7.2)\n",
            "Requirement already satisfied: werkzeug>=1.0.1 in /usr/local/lib/python3.10/dist-packages (from tensorboard>=2.4.1->-r requirements.txt (line 18)) (3.0.1)\n",
            "Requirement already satisfied: pytz>=2020.1 in /usr/local/lib/python3.10/dist-packages (from pandas>=1.1.4->-r requirements.txt (line 22)) (2023.3.post1)\n",
            "Requirement already satisfied: jedi>=0.16 in /usr/local/lib/python3.10/dist-packages (from ipython->-r requirements.txt (line 35)) (0.19.1)\n",
            "Requirement already satisfied: decorator in /usr/local/lib/python3.10/dist-packages (from ipython->-r requirements.txt (line 35)) (4.4.2)\n",
            "Requirement already satisfied: pickleshare in /usr/local/lib/python3.10/dist-packages (from ipython->-r requirements.txt (line 35)) (0.7.5)\n",
            "Requirement already satisfied: traitlets>=4.2 in /usr/local/lib/python3.10/dist-packages (from ipython->-r requirements.txt (line 35)) (5.7.1)\n",
            "Requirement already satisfied: prompt-toolkit!=3.0.0,!=3.0.1,<3.1.0,>=2.0.0 in /usr/local/lib/python3.10/dist-packages (from ipython->-r requirements.txt (line 35)) (3.0.41)\n",
            "Requirement already satisfied: pygments in /usr/local/lib/python3.10/dist-packages (from ipython->-r requirements.txt (line 35)) (2.16.1)\n",
            "Requirement already satisfied: backcall in /usr/local/lib/python3.10/dist-packages (from ipython->-r requirements.txt (line 35)) (0.2.0)\n",
            "Requirement already satisfied: matplotlib-inline in /usr/local/lib/python3.10/dist-packages (from ipython->-r requirements.txt (line 35)) (0.1.6)\n",
            "Requirement already satisfied: pexpect>4.3 in /usr/local/lib/python3.10/dist-packages (from ipython->-r requirements.txt (line 35)) (4.9.0)\n",
            "Requirement already satisfied: svgwrite in /usr/local/lib/python3.10/dist-packages (from tree->-r requirements.txt (line 42)) (1.4.3)\n",
            "Requirement already satisfied: click in /usr/local/lib/python3.10/dist-packages (from tree->-r requirements.txt (line 42)) (8.1.7)\n",
            "Requirement already satisfied: cachetools<6.0,>=2.0.0 in /usr/local/lib/python3.10/dist-packages (from google-auth<3,>=1.6.3->tensorboard>=2.4.1->-r requirements.txt (line 18)) (5.3.2)\n",
            "Requirement already satisfied: pyasn1-modules>=0.2.1 in /usr/local/lib/python3.10/dist-packages (from google-auth<3,>=1.6.3->tensorboard>=2.4.1->-r requirements.txt (line 18)) (0.3.0)\n",
            "Requirement already satisfied: rsa<5,>=3.1.4 in /usr/local/lib/python3.10/dist-packages (from google-auth<3,>=1.6.3->tensorboard>=2.4.1->-r requirements.txt (line 18)) (4.9)\n",
            "Requirement already satisfied: requests-oauthlib>=0.7.0 in /usr/local/lib/python3.10/dist-packages (from google-auth-oauthlib<1.1,>=0.5->tensorboard>=2.4.1->-r requirements.txt (line 18)) (1.3.1)\n",
            "Requirement already satisfied: parso<0.9.0,>=0.8.3 in /usr/local/lib/python3.10/dist-packages (from jedi>=0.16->ipython->-r requirements.txt (line 35)) (0.8.3)\n",
            "Requirement already satisfied: ptyprocess>=0.5 in /usr/local/lib/python3.10/dist-packages (from pexpect>4.3->ipython->-r requirements.txt (line 35)) (0.7.0)\n",
            "Requirement already satisfied: wcwidth in /usr/local/lib/python3.10/dist-packages (from prompt-toolkit!=3.0.0,!=3.0.1,<3.1.0,>=2.0.0->ipython->-r requirements.txt (line 35)) (0.2.12)\n",
            "Requirement already satisfied: MarkupSafe>=2.1.1 in /usr/local/lib/python3.10/dist-packages (from werkzeug>=1.0.1->tensorboard>=2.4.1->-r requirements.txt (line 18)) (2.1.3)\n",
            "Requirement already satisfied: mpmath>=0.19 in /usr/local/lib/python3.10/dist-packages (from sympy->torch>=1.7.0->-r requirements.txt (line 12)) (1.3.0)\n",
            "Requirement already satisfied: pyasn1<0.6.0,>=0.4.6 in /usr/local/lib/python3.10/dist-packages (from pyasn1-modules>=0.2.1->google-auth<3,>=1.6.3->tensorboard>=2.4.1->-r requirements.txt (line 18)) (0.5.1)\n",
            "Requirement already satisfied: oauthlib>=3.0.0 in /usr/local/lib/python3.10/dist-packages (from requests-oauthlib>=0.7.0->google-auth-oauthlib<1.1,>=0.5->tensorboard>=2.4.1->-r requirements.txt (line 18)) (3.2.2)\n"
          ]
        }
      ]
    },
    {
      "cell_type": "code",
      "source": [
        "# utilisée dans le contexte de l'installation, de la configuration ou de la construction d'un projet Python\n",
        "# Le fichier setup.py est couramment utilisé dans les projets Python pour spécifier les métadonnées du package et définir diverses configurations liées à l'installation, la distribution, et la gestion des dépendances.\n",
        "!python setup.py"
      ],
      "metadata": {
        "colab": {
          "base_uri": "https://localhost:8080/"
        },
        "id": "Jb04AFiTfdAA",
        "outputId": "4f0888d7-49ff-4288-8192-62af4800bc64"
      },
      "execution_count": null,
      "outputs": [
        {
          "output_type": "stream",
          "name": "stdout",
          "text": [
            "Checking setup...\n",
            "YOLOv5 🚀 2023-12-7 Python-3.10.12 torch-2.1.0+cu118 CUDA:0 (Tesla T4, 15102MiB)\n",
            "Setup complete ✅ (2 CPUs, 12.7 GB RAM, 27.3/78.2 GB disk)\n"
          ]
        }
      ]
    },
    {
      "cell_type": "code",
      "source": [
        "#pour télécharger un fichier depuis Google Drive\n",
        "!gdown --folder 10jpVGSHGILDt85QGf5KwHji0sUjZXbWR"
      ],
      "metadata": {
        "colab": {
          "base_uri": "https://localhost:8080/"
        },
        "id": "6Dlgf7cVfgLU",
        "outputId": "17a51cd5-e198-43b0-dd43-f2f31d9339b8"
      },
      "execution_count": null,
      "outputs": [
        {
          "output_type": "stream",
          "name": "stdout",
          "text": [
            "Retrieving folder list\n",
            "Processing file 1NQVmct8vhAp-VMHL5WrgHyrhYFj6qrJz confusion_matrix.png\n",
            "Processing file 1tc1hgmGj41fnaF8TN-vj4gAyv7ZJZYa0 events.out.tfevents.1649320718.643dfe7de3d8.3864.0\n",
            "Processing file 1Xhupc9yU7kn0rTY3AG-F0W3YJVGZ_Ba7 F1_curve.png\n",
            "Processing file 1tPHqHMFFfDxKZqkQCZeP_A5Ox1tTi4oG hyp.yaml\n",
            "Processing file 1hgp-UHX8lP5pKkvJELc8nXAqp-YrYCGy labels_correlogram.jpg\n",
            "Processing file 1dq_AUXiB00g3RzNOrUPpsD0Is76bmYZK labels.jpg\n",
            "Processing file 1K5zbR-FzxbirDktmmWhhLkE5JFT6nVLP opt.yaml\n",
            "Processing file 1_WVl6N1g_X880M2uSatROUzPSGkluSKj P_curve.png\n",
            "Processing file 1T0Ir1G3_X5fDXyb3gz1Bwrt3U3T0J6Qa PR_curve.png\n",
            "Processing file 1w9n90Q7jLSEgrTOssxF79CK7ezozIIQF R_curve.png\n",
            "Processing file 18lAgXljKtDD_dVZ1dJU6nkDez9hPwA4g results.csv\n",
            "Processing file 1Uk_T4YDyp7UKfNQyYM2aHm3C608TnYk7 results.png\n",
            "Processing file 1_47DuAtnj-fSYCi8MxTa0hetPbffoQZM train_batch0.jpg\n",
            "Processing file 1nMwTe7Ml5DQyLqNjBiEp1Re2Qto5N_bL train_batch1.jpg\n",
            "Processing file 1SDjXUpY4Y0OM7gQVTSLiBafGdgov_zcq train_batch2.jpg\n",
            "Processing file 1_vzOPg9NipmgeYjK0fOAFZ19WywIerTH val_batch0_labels.jpg\n",
            "Processing file 1Js0ZqfT_ipALcB3rLShbvk0IHBNJmlQk val_batch0_pred.jpg\n",
            "Processing file 11IUlYVVHEuBgzkrvmLSOIkpLdPWc1QBp val_batch1_labels.jpg\n",
            "Processing file 1IEDwkQ6yUC_fy-uu5gbEe5COZjfQZfiH val_batch1_pred.jpg\n",
            "Processing file 1cGGdojQbx6Mjra4uamxEdwajFOtFFRS2 val_batch2_labels.jpg\n",
            "Processing file 14fcygm4zTLgGfIiECEBScB36bMY345CL val_batch2_pred.jpg\n",
            "Retrieving folder 1-ySPTPSb0tvFp23eUh0OaYm3nB8eivt8 weights\n",
            "Processing file 1XGJM9PTQ5WyhH2aMUfPUSKdy7hX2jTPe best.pt\n",
            "Processing file 1h8jIClN7fhYhu_ZueK1UdJMGsa9KaATk last.pt\n",
            "Retrieving folder list completed\n",
            "Building directory structure\n",
            "Building directory structure completed\n",
            "Downloading...\n",
            "From: https://drive.google.com/uc?id=1NQVmct8vhAp-VMHL5WrgHyrhYFj6qrJz\n",
            "To: /content/object_detection-PLUS-distance_estimation-v1/distance-estimator/object_detection-PLUS-distance_estimation-v1/object-detector/training-results/confusion_matrix.png\n",
            "100% 105k/105k [00:00<00:00, 91.4MB/s]\n",
            "Downloading...\n",
            "From: https://drive.google.com/uc?id=1tc1hgmGj41fnaF8TN-vj4gAyv7ZJZYa0\n",
            "To: /content/object_detection-PLUS-distance_estimation-v1/distance-estimator/object_detection-PLUS-distance_estimation-v1/object-detector/training-results/events.out.tfevents.1649320718.643dfe7de3d8.3864.0\n",
            "100% 1.19M/1.19M [00:00<00:00, 137MB/s]\n",
            "Downloading...\n",
            "From: https://drive.google.com/uc?id=1Xhupc9yU7kn0rTY3AG-F0W3YJVGZ_Ba7\n",
            "To: /content/object_detection-PLUS-distance_estimation-v1/distance-estimator/object_detection-PLUS-distance_estimation-v1/object-detector/training-results/F1_curve.png\n",
            "100% 184k/184k [00:00<00:00, 109MB/s]\n",
            "Downloading...\n",
            "From: https://drive.google.com/uc?id=1tPHqHMFFfDxKZqkQCZeP_A5Ox1tTi4oG\n",
            "To: /content/object_detection-PLUS-distance_estimation-v1/distance-estimator/object_detection-PLUS-distance_estimation-v1/object-detector/training-results/hyp.yaml\n",
            "100% 373/373 [00:00<00:00, 2.06MB/s]\n",
            "Downloading...\n",
            "From: https://drive.google.com/uc?id=1hgp-UHX8lP5pKkvJELc8nXAqp-YrYCGy\n",
            "To: /content/object_detection-PLUS-distance_estimation-v1/distance-estimator/object_detection-PLUS-distance_estimation-v1/object-detector/training-results/labels_correlogram.jpg\n",
            "100% 402k/402k [00:00<00:00, 83.7MB/s]\n",
            "Downloading...\n",
            "From: https://drive.google.com/uc?id=1dq_AUXiB00g3RzNOrUPpsD0Is76bmYZK\n",
            "To: /content/object_detection-PLUS-distance_estimation-v1/distance-estimator/object_detection-PLUS-distance_estimation-v1/object-detector/training-results/labels.jpg\n",
            "100% 227k/227k [00:00<00:00, 119MB/s]\n",
            "Downloading...\n",
            "From: https://drive.google.com/uc?id=1K5zbR-FzxbirDktmmWhhLkE5JFT6nVLP\n",
            "To: /content/object_detection-PLUS-distance_estimation-v1/distance-estimator/object_detection-PLUS-distance_estimation-v1/object-detector/training-results/opt.yaml\n",
            "100% 645/645 [00:00<00:00, 2.12MB/s]\n",
            "Downloading...\n",
            "From: https://drive.google.com/uc?id=1_WVl6N1g_X880M2uSatROUzPSGkluSKj\n",
            "To: /content/object_detection-PLUS-distance_estimation-v1/distance-estimator/object_detection-PLUS-distance_estimation-v1/object-detector/training-results/P_curve.png\n",
            "100% 159k/159k [00:00<00:00, 93.8MB/s]\n",
            "Downloading...\n",
            "From: https://drive.google.com/uc?id=1T0Ir1G3_X5fDXyb3gz1Bwrt3U3T0J6Qa\n",
            "To: /content/object_detection-PLUS-distance_estimation-v1/distance-estimator/object_detection-PLUS-distance_estimation-v1/object-detector/training-results/PR_curve.png\n",
            "100% 162k/162k [00:00<00:00, 107MB/s]\n",
            "Downloading...\n",
            "From: https://drive.google.com/uc?id=1w9n90Q7jLSEgrTOssxF79CK7ezozIIQF\n",
            "To: /content/object_detection-PLUS-distance_estimation-v1/distance-estimator/object_detection-PLUS-distance_estimation-v1/object-detector/training-results/R_curve.png\n",
            "100% 176k/176k [00:00<00:00, 119MB/s]\n",
            "Downloading...\n",
            "From: https://drive.google.com/uc?id=18lAgXljKtDD_dVZ1dJU6nkDez9hPwA4g\n",
            "To: /content/object_detection-PLUS-distance_estimation-v1/distance-estimator/object_detection-PLUS-distance_estimation-v1/object-detector/training-results/results.csv\n",
            "100% 7.35k/7.35k [00:00<00:00, 32.8MB/s]\n",
            "Downloading...\n",
            "From: https://drive.google.com/uc?id=1Uk_T4YDyp7UKfNQyYM2aHm3C608TnYk7\n",
            "To: /content/object_detection-PLUS-distance_estimation-v1/distance-estimator/object_detection-PLUS-distance_estimation-v1/object-detector/training-results/results.png\n",
            "100% 262k/262k [00:00<00:00, 108MB/s]\n",
            "Downloading...\n",
            "From: https://drive.google.com/uc?id=1_47DuAtnj-fSYCi8MxTa0hetPbffoQZM\n",
            "To: /content/object_detection-PLUS-distance_estimation-v1/distance-estimator/object_detection-PLUS-distance_estimation-v1/object-detector/training-results/train_batch0.jpg\n",
            "100% 499k/499k [00:00<00:00, 117MB/s]\n",
            "Downloading...\n",
            "From: https://drive.google.com/uc?id=1nMwTe7Ml5DQyLqNjBiEp1Re2Qto5N_bL\n",
            "To: /content/object_detection-PLUS-distance_estimation-v1/distance-estimator/object_detection-PLUS-distance_estimation-v1/object-detector/training-results/train_batch1.jpg\n",
            "100% 487k/487k [00:00<00:00, 168MB/s]\n",
            "Downloading...\n",
            "From: https://drive.google.com/uc?id=1SDjXUpY4Y0OM7gQVTSLiBafGdgov_zcq\n",
            "To: /content/object_detection-PLUS-distance_estimation-v1/distance-estimator/object_detection-PLUS-distance_estimation-v1/object-detector/training-results/train_batch2.jpg\n",
            "100% 491k/491k [00:00<00:00, 131MB/s]\n",
            "Downloading...\n",
            "From: https://drive.google.com/uc?id=1_vzOPg9NipmgeYjK0fOAFZ19WywIerTH\n",
            "To: /content/object_detection-PLUS-distance_estimation-v1/distance-estimator/object_detection-PLUS-distance_estimation-v1/object-detector/training-results/val_batch0_labels.jpg\n",
            "100% 487k/487k [00:00<00:00, 92.2MB/s]\n",
            "Downloading...\n",
            "From: https://drive.google.com/uc?id=1Js0ZqfT_ipALcB3rLShbvk0IHBNJmlQk\n",
            "To: /content/object_detection-PLUS-distance_estimation-v1/distance-estimator/object_detection-PLUS-distance_estimation-v1/object-detector/training-results/val_batch0_pred.jpg\n",
            "100% 501k/501k [00:00<00:00, 138MB/s]\n",
            "Downloading...\n",
            "From: https://drive.google.com/uc?id=11IUlYVVHEuBgzkrvmLSOIkpLdPWc1QBp\n",
            "To: /content/object_detection-PLUS-distance_estimation-v1/distance-estimator/object_detection-PLUS-distance_estimation-v1/object-detector/training-results/val_batch1_labels.jpg\n",
            "100% 482k/482k [00:00<00:00, 125MB/s]\n",
            "Downloading...\n",
            "From: https://drive.google.com/uc?id=1IEDwkQ6yUC_fy-uu5gbEe5COZjfQZfiH\n",
            "To: /content/object_detection-PLUS-distance_estimation-v1/distance-estimator/object_detection-PLUS-distance_estimation-v1/object-detector/training-results/val_batch1_pred.jpg\n",
            "100% 499k/499k [00:00<00:00, 146MB/s]\n",
            "Downloading...\n",
            "From: https://drive.google.com/uc?id=1cGGdojQbx6Mjra4uamxEdwajFOtFFRS2\n",
            "To: /content/object_detection-PLUS-distance_estimation-v1/distance-estimator/object_detection-PLUS-distance_estimation-v1/object-detector/training-results/val_batch2_labels.jpg\n",
            "100% 496k/496k [00:00<00:00, 130MB/s]\n",
            "Downloading...\n",
            "From: https://drive.google.com/uc?id=14fcygm4zTLgGfIiECEBScB36bMY345CL\n",
            "To: /content/object_detection-PLUS-distance_estimation-v1/distance-estimator/object_detection-PLUS-distance_estimation-v1/object-detector/training-results/val_batch2_pred.jpg\n",
            "100% 511k/511k [00:00<00:00, 151MB/s]\n",
            "Downloading...\n",
            "From: https://drive.google.com/uc?id=1XGJM9PTQ5WyhH2aMUfPUSKdy7hX2jTPe\n",
            "To: /content/object_detection-PLUS-distance_estimation-v1/distance-estimator/object_detection-PLUS-distance_estimation-v1/object-detector/training-results/weights/best.pt\n",
            "100% 14.4M/14.4M [00:00<00:00, 79.9MB/s]\n",
            "Access denied with the following error:\n",
            "\n",
            " \tCannot retrieve the public link of the file. You may need to change\n",
            "\tthe permission to 'Anyone with the link', or have had many accesses. \n",
            "\n",
            "You may still be able to access the file from the browser:\n",
            "\n",
            "\t https://drive.google.com/uc?id=1h8jIClN7fhYhu_ZueK1UdJMGsa9KaATk \n",
            "\n",
            "Download ended unsuccessfully\n"
          ]
        }
      ]
    },
    {
      "cell_type": "code",
      "source": [
        "#ici on met le chemin d'image ou de vedio\n",
        "#utilisée pour effectuer la détection d'objets sur une vidéoou image  en utilisant un modèle de détection pré-entraîné.\n",
        "#detect.py : Il s'agit du script Python inclus dans le projet YOLOv5 qui effectue la détection d'objets.\n",
        "#save-txt :  sauvegarder les coordonnées des boîtes englobantes détectées dans des fichiers texte. Chaque fichier texte contiendra les informations de détection pour une image.\n",
        "#--weights training-results/weights/best.pt : Ce paramètre spécifie le chemin vers les poids du modèle que vous souhaitez utiliser pour la détection\n",
        "#best.pt est un fichier de poids (weights) pour un modèle entraîné. Dans le contexte de YOLOv5, ce fichier contient les paramètres appris par le modèle lors de l'entraînement sur un ensemble de données spécifique.\n",
        "#--conf 0.4 : Cela définit un seuil de confiance pour la détection. Les boîtes englobantes avec une confiance inférieure à 0.4 ne seront pas incluses dans les résultats.\n",
        "!python detect.py --save-txt --weights training-results/weights/best.pt --conf 0.4 --source /content/0602225595532-web-tete.jpg"
      ],
      "metadata": {
        "colab": {
          "base_uri": "https://localhost:8080/"
        },
        "id": "f0UP6o5NiPg2",
        "outputId": "7122febd-23de-4316-d808-975cdc85883c"
      },
      "execution_count": null,
      "outputs": [
        {
          "output_type": "stream",
          "name": "stdout",
          "text": [
            "\u001b[34m\u001b[1mdetect: \u001b[0mweights=['training-results/weights/best.pt'], source=/content/0602225595532-web-tete.jpg, data=data/coco128.yaml, imgsz=[640, 640], conf_thres=0.4, iou_thres=0.45, max_det=1000, device=, view_img=False, save_txt=True, save_conf=False, save_crop=False, nosave=False, classes=None, agnostic_nms=False, augment=False, visualize=False, update=False, project=runs/detect, name=exp, exist_ok=False, line_thickness=3, hide_labels=False, hide_conf=False, half=False, dnn=False\n",
            "YOLOv5 🚀 2023-12-7 Python-3.10.12 torch-2.1.0+cu118 CUDA:0 (Tesla T4, 15102MiB)\n",
            "\n",
            "Fusing layers... \n",
            "YOLOv5s summary: 213 layers, 7018216 parameters, 0 gradients, 15.8 GFLOPs\n",
            "image 1/1 /content/0602225595532-web-tete.jpg: 384x640 8 cars, Done. (0.085s)\n",
            "Speed: 0.9ms pre-process, 85.1ms inference, 17.5ms NMS per image at shape (1, 3, 640, 640)\n",
            "Results saved to \u001b[1mruns/detect/exp\u001b[0m\n",
            "1 labels saved to runs/detect/exp/labels\n"
          ]
        }
      ]
    },
    {
      "cell_type": "code",
      "source": [
        "%cd .."
      ],
      "metadata": {
        "colab": {
          "base_uri": "https://localhost:8080/"
        },
        "id": "PHqHPqDTiQhR",
        "outputId": "2c4a9b01-a885-4e07-aff3-ad03a5153c0d"
      },
      "execution_count": null,
      "outputs": [
        {
          "output_type": "stream",
          "name": "stdout",
          "text": [
            "/content/object_detection-PLUS-distance_estimation-v1/distance-estimator/object_detection-PLUS-distance_estimation-v1\n"
          ]
        }
      ]
    },
    {
      "cell_type": "code",
      "source": [
        "%cd distance-estimator/"
      ],
      "metadata": {
        "colab": {
          "base_uri": "https://localhost:8080/"
        },
        "id": "4gPOSd9oiYzi",
        "outputId": "6fdbf87e-c484-4441-c92a-e0d6725ff4d9"
      },
      "execution_count": null,
      "outputs": [
        {
          "output_type": "stream",
          "name": "stdout",
          "text": [
            "/content/object_detection-PLUS-distance_estimation-v1/distance-estimator/object_detection-PLUS-distance_estimation-v1/distance-estimator\n"
          ]
        }
      ]
    },
    {
      "cell_type": "code",
      "source": [
        "!pip install -r requirements.txt"
      ],
      "metadata": {
        "colab": {
          "base_uri": "https://localhost:8080/"
        },
        "id": "XA-BeT4znBRJ",
        "outputId": "46d0e076-ed1e-4982-d6ed-732604f4f284"
      },
      "execution_count": null,
      "outputs": [
        {
          "output_type": "stream",
          "name": "stdout",
          "text": [
            "Requirement already satisfied: hyperopt in /usr/local/lib/python3.10/dist-packages (from -r requirements.txt (line 1)) (0.2.7)\n",
            "Requirement already satisfied: tqdm in /usr/local/lib/python3.10/dist-packages (from -r requirements.txt (line 2)) (4.66.1)\n",
            "Requirement already satisfied: matplotlib in /usr/local/lib/python3.10/dist-packages (from -r requirements.txt (line 3)) (3.7.1)\n",
            "Requirement already satisfied: pandas in /usr/local/lib/python3.10/dist-packages (from -r requirements.txt (line 4)) (1.5.3)\n",
            "Requirement already satisfied: hyperas in /usr/local/lib/python3.10/dist-packages (from -r requirements.txt (line 5)) (0.4.1)\n",
            "Requirement already satisfied: opencv_python in /usr/local/lib/python3.10/dist-packages (from -r requirements.txt (line 6)) (4.8.0.76)\n",
            "Requirement already satisfied: numpy in /usr/local/lib/python3.10/dist-packages (from -r requirements.txt (line 7)) (1.23.5)\n",
            "Requirement already satisfied: Keras in /usr/local/lib/python3.10/dist-packages (from -r requirements.txt (line 8)) (2.14.0)\n",
            "Requirement already satisfied: asposebarcode in /usr/local/lib/python3.10/dist-packages (from -r requirements.txt (line 9)) (1.0.0)\n",
            "Requirement already satisfied: scikit_learn in /usr/local/lib/python3.10/dist-packages (from -r requirements.txt (line 10)) (1.2.2)\n",
            "Requirement already satisfied: scipy in /usr/local/lib/python3.10/dist-packages (from hyperopt->-r requirements.txt (line 1)) (1.11.4)\n",
            "Requirement already satisfied: six in /usr/local/lib/python3.10/dist-packages (from hyperopt->-r requirements.txt (line 1)) (1.16.0)\n",
            "Requirement already satisfied: networkx>=2.2 in /usr/local/lib/python3.10/dist-packages (from hyperopt->-r requirements.txt (line 1)) (3.2.1)\n",
            "Requirement already satisfied: future in /usr/local/lib/python3.10/dist-packages (from hyperopt->-r requirements.txt (line 1)) (0.18.3)\n",
            "Requirement already satisfied: cloudpickle in /usr/local/lib/python3.10/dist-packages (from hyperopt->-r requirements.txt (line 1)) (2.2.1)\n",
            "Requirement already satisfied: py4j in /usr/local/lib/python3.10/dist-packages (from hyperopt->-r requirements.txt (line 1)) (0.10.9.7)\n",
            "Requirement already satisfied: contourpy>=1.0.1 in /usr/local/lib/python3.10/dist-packages (from matplotlib->-r requirements.txt (line 3)) (1.2.0)\n",
            "Requirement already satisfied: cycler>=0.10 in /usr/local/lib/python3.10/dist-packages (from matplotlib->-r requirements.txt (line 3)) (0.12.1)\n",
            "Requirement already satisfied: fonttools>=4.22.0 in /usr/local/lib/python3.10/dist-packages (from matplotlib->-r requirements.txt (line 3)) (4.45.1)\n",
            "Requirement already satisfied: kiwisolver>=1.0.1 in /usr/local/lib/python3.10/dist-packages (from matplotlib->-r requirements.txt (line 3)) (1.4.5)\n",
            "Requirement already satisfied: packaging>=20.0 in /usr/local/lib/python3.10/dist-packages (from matplotlib->-r requirements.txt (line 3)) (23.2)\n",
            "Requirement already satisfied: pillow>=6.2.0 in /usr/local/lib/python3.10/dist-packages (from matplotlib->-r requirements.txt (line 3)) (9.4.0)\n",
            "Requirement already satisfied: pyparsing>=2.3.1 in /usr/local/lib/python3.10/dist-packages (from matplotlib->-r requirements.txt (line 3)) (3.1.1)\n",
            "Requirement already satisfied: python-dateutil>=2.7 in /usr/local/lib/python3.10/dist-packages (from matplotlib->-r requirements.txt (line 3)) (2.8.2)\n",
            "Requirement already satisfied: pytz>=2020.1 in /usr/local/lib/python3.10/dist-packages (from pandas->-r requirements.txt (line 4)) (2023.3.post1)\n",
            "Requirement already satisfied: entrypoints in /usr/local/lib/python3.10/dist-packages (from hyperas->-r requirements.txt (line 5)) (0.4)\n",
            "Requirement already satisfied: jupyter in /usr/local/lib/python3.10/dist-packages (from hyperas->-r requirements.txt (line 5)) (1.0.0)\n",
            "Requirement already satisfied: nbformat in /usr/local/lib/python3.10/dist-packages (from hyperas->-r requirements.txt (line 5)) (5.9.2)\n",
            "Requirement already satisfied: nbconvert in /usr/local/lib/python3.10/dist-packages (from hyperas->-r requirements.txt (line 5)) (6.5.4)\n",
            "Requirement already satisfied: asposestorage in /usr/local/lib/python3.10/dist-packages (from asposebarcode->-r requirements.txt (line 9)) (1.0.2)\n",
            "Requirement already satisfied: joblib>=1.1.1 in /usr/local/lib/python3.10/dist-packages (from scikit_learn->-r requirements.txt (line 10)) (1.3.2)\n",
            "Requirement already satisfied: threadpoolctl>=2.0.0 in /usr/local/lib/python3.10/dist-packages (from scikit_learn->-r requirements.txt (line 10)) (3.2.0)\n",
            "Requirement already satisfied: notebook in /usr/local/lib/python3.10/dist-packages (from jupyter->hyperas->-r requirements.txt (line 5)) (6.5.5)\n",
            "Requirement already satisfied: qtconsole in /usr/local/lib/python3.10/dist-packages (from jupyter->hyperas->-r requirements.txt (line 5)) (5.5.1)\n",
            "Requirement already satisfied: jupyter-console in /usr/local/lib/python3.10/dist-packages (from jupyter->hyperas->-r requirements.txt (line 5)) (6.1.0)\n",
            "Requirement already satisfied: ipykernel in /usr/local/lib/python3.10/dist-packages (from jupyter->hyperas->-r requirements.txt (line 5)) (5.5.6)\n",
            "Requirement already satisfied: ipywidgets in /usr/local/lib/python3.10/dist-packages (from jupyter->hyperas->-r requirements.txt (line 5)) (7.7.1)\n",
            "Requirement already satisfied: lxml in /usr/local/lib/python3.10/dist-packages (from nbconvert->hyperas->-r requirements.txt (line 5)) (4.9.3)\n",
            "Requirement already satisfied: beautifulsoup4 in /usr/local/lib/python3.10/dist-packages (from nbconvert->hyperas->-r requirements.txt (line 5)) (4.11.2)\n",
            "Requirement already satisfied: bleach in /usr/local/lib/python3.10/dist-packages (from nbconvert->hyperas->-r requirements.txt (line 5)) (6.1.0)\n",
            "Requirement already satisfied: defusedxml in /usr/local/lib/python3.10/dist-packages (from nbconvert->hyperas->-r requirements.txt (line 5)) (0.7.1)\n",
            "Requirement already satisfied: jinja2>=3.0 in /usr/local/lib/python3.10/dist-packages (from nbconvert->hyperas->-r requirements.txt (line 5)) (3.1.2)\n",
            "Requirement already satisfied: jupyter-core>=4.7 in /usr/local/lib/python3.10/dist-packages (from nbconvert->hyperas->-r requirements.txt (line 5)) (5.5.0)\n",
            "Requirement already satisfied: jupyterlab-pygments in /usr/local/lib/python3.10/dist-packages (from nbconvert->hyperas->-r requirements.txt (line 5)) (0.3.0)\n",
            "Requirement already satisfied: MarkupSafe>=2.0 in /usr/local/lib/python3.10/dist-packages (from nbconvert->hyperas->-r requirements.txt (line 5)) (2.1.3)\n",
            "Requirement already satisfied: mistune<2,>=0.8.1 in /usr/local/lib/python3.10/dist-packages (from nbconvert->hyperas->-r requirements.txt (line 5)) (0.8.4)\n",
            "Requirement already satisfied: nbclient>=0.5.0 in /usr/local/lib/python3.10/dist-packages (from nbconvert->hyperas->-r requirements.txt (line 5)) (0.9.0)\n",
            "Requirement already satisfied: pandocfilters>=1.4.1 in /usr/local/lib/python3.10/dist-packages (from nbconvert->hyperas->-r requirements.txt (line 5)) (1.5.0)\n",
            "Requirement already satisfied: pygments>=2.4.1 in /usr/local/lib/python3.10/dist-packages (from nbconvert->hyperas->-r requirements.txt (line 5)) (2.16.1)\n",
            "Requirement already satisfied: tinycss2 in /usr/local/lib/python3.10/dist-packages (from nbconvert->hyperas->-r requirements.txt (line 5)) (1.2.1)\n",
            "Requirement already satisfied: traitlets>=5.0 in /usr/local/lib/python3.10/dist-packages (from nbconvert->hyperas->-r requirements.txt (line 5)) (5.7.1)\n",
            "Requirement already satisfied: fastjsonschema in /usr/local/lib/python3.10/dist-packages (from nbformat->hyperas->-r requirements.txt (line 5)) (2.19.0)\n",
            "Requirement already satisfied: jsonschema>=2.6 in /usr/local/lib/python3.10/dist-packages (from nbformat->hyperas->-r requirements.txt (line 5)) (4.19.2)\n",
            "Requirement already satisfied: attrs>=22.2.0 in /usr/local/lib/python3.10/dist-packages (from jsonschema>=2.6->nbformat->hyperas->-r requirements.txt (line 5)) (23.1.0)\n",
            "Requirement already satisfied: jsonschema-specifications>=2023.03.6 in /usr/local/lib/python3.10/dist-packages (from jsonschema>=2.6->nbformat->hyperas->-r requirements.txt (line 5)) (2023.11.2)\n",
            "Requirement already satisfied: referencing>=0.28.4 in /usr/local/lib/python3.10/dist-packages (from jsonschema>=2.6->nbformat->hyperas->-r requirements.txt (line 5)) (0.31.1)\n",
            "Requirement already satisfied: rpds-py>=0.7.1 in /usr/local/lib/python3.10/dist-packages (from jsonschema>=2.6->nbformat->hyperas->-r requirements.txt (line 5)) (0.13.2)\n",
            "Requirement already satisfied: platformdirs>=2.5 in /usr/local/lib/python3.10/dist-packages (from jupyter-core>=4.7->nbconvert->hyperas->-r requirements.txt (line 5)) (4.0.0)\n",
            "Requirement already satisfied: jupyter-client>=6.1.12 in /usr/local/lib/python3.10/dist-packages (from nbclient>=0.5.0->nbconvert->hyperas->-r requirements.txt (line 5)) (6.1.12)\n",
            "Requirement already satisfied: soupsieve>1.2 in /usr/local/lib/python3.10/dist-packages (from beautifulsoup4->nbconvert->hyperas->-r requirements.txt (line 5)) (2.5)\n",
            "Requirement already satisfied: webencodings in /usr/local/lib/python3.10/dist-packages (from bleach->nbconvert->hyperas->-r requirements.txt (line 5)) (0.5.1)\n",
            "Requirement already satisfied: ipython-genutils in /usr/local/lib/python3.10/dist-packages (from ipykernel->jupyter->hyperas->-r requirements.txt (line 5)) (0.2.0)\n",
            "Requirement already satisfied: ipython>=5.0.0 in /usr/local/lib/python3.10/dist-packages (from ipykernel->jupyter->hyperas->-r requirements.txt (line 5)) (7.34.0)\n",
            "Requirement already satisfied: tornado>=4.2 in /usr/local/lib/python3.10/dist-packages (from ipykernel->jupyter->hyperas->-r requirements.txt (line 5)) (6.3.2)\n",
            "Requirement already satisfied: widgetsnbextension~=3.6.0 in /usr/local/lib/python3.10/dist-packages (from ipywidgets->jupyter->hyperas->-r requirements.txt (line 5)) (3.6.6)\n",
            "Requirement already satisfied: jupyterlab-widgets>=1.0.0 in /usr/local/lib/python3.10/dist-packages (from ipywidgets->jupyter->hyperas->-r requirements.txt (line 5)) (3.0.9)\n",
            "Requirement already satisfied: prompt-toolkit!=3.0.0,!=3.0.1,<3.1.0,>=2.0.0 in /usr/local/lib/python3.10/dist-packages (from jupyter-console->jupyter->hyperas->-r requirements.txt (line 5)) (3.0.41)\n",
            "Requirement already satisfied: pyzmq<25,>=17 in /usr/local/lib/python3.10/dist-packages (from notebook->jupyter->hyperas->-r requirements.txt (line 5)) (23.2.1)\n",
            "Requirement already satisfied: argon2-cffi in /usr/local/lib/python3.10/dist-packages (from notebook->jupyter->hyperas->-r requirements.txt (line 5)) (23.1.0)\n",
            "Requirement already satisfied: nest-asyncio>=1.5 in /usr/local/lib/python3.10/dist-packages (from notebook->jupyter->hyperas->-r requirements.txt (line 5)) (1.5.8)\n",
            "Requirement already satisfied: Send2Trash>=1.8.0 in /usr/local/lib/python3.10/dist-packages (from notebook->jupyter->hyperas->-r requirements.txt (line 5)) (1.8.2)\n",
            "Requirement already satisfied: terminado>=0.8.3 in /usr/local/lib/python3.10/dist-packages (from notebook->jupyter->hyperas->-r requirements.txt (line 5)) (0.18.0)\n",
            "Requirement already satisfied: prometheus-client in /usr/local/lib/python3.10/dist-packages (from notebook->jupyter->hyperas->-r requirements.txt (line 5)) (0.19.0)\n",
            "Requirement already satisfied: nbclassic>=0.4.7 in /usr/local/lib/python3.10/dist-packages (from notebook->jupyter->hyperas->-r requirements.txt (line 5)) (1.0.0)\n",
            "Requirement already satisfied: qtpy>=2.4.0 in /usr/local/lib/python3.10/dist-packages (from qtconsole->jupyter->hyperas->-r requirements.txt (line 5)) (2.4.1)\n",
            "Requirement already satisfied: setuptools>=18.5 in /usr/local/lib/python3.10/dist-packages (from ipython>=5.0.0->ipykernel->jupyter->hyperas->-r requirements.txt (line 5)) (67.7.2)\n",
            "Requirement already satisfied: jedi>=0.16 in /usr/local/lib/python3.10/dist-packages (from ipython>=5.0.0->ipykernel->jupyter->hyperas->-r requirements.txt (line 5)) (0.19.1)\n",
            "Requirement already satisfied: decorator in /usr/local/lib/python3.10/dist-packages (from ipython>=5.0.0->ipykernel->jupyter->hyperas->-r requirements.txt (line 5)) (4.4.2)\n",
            "Requirement already satisfied: pickleshare in /usr/local/lib/python3.10/dist-packages (from ipython>=5.0.0->ipykernel->jupyter->hyperas->-r requirements.txt (line 5)) (0.7.5)\n",
            "Requirement already satisfied: backcall in /usr/local/lib/python3.10/dist-packages (from ipython>=5.0.0->ipykernel->jupyter->hyperas->-r requirements.txt (line 5)) (0.2.0)\n",
            "Requirement already satisfied: matplotlib-inline in /usr/local/lib/python3.10/dist-packages (from ipython>=5.0.0->ipykernel->jupyter->hyperas->-r requirements.txt (line 5)) (0.1.6)\n",
            "Requirement already satisfied: pexpect>4.3 in /usr/local/lib/python3.10/dist-packages (from ipython>=5.0.0->ipykernel->jupyter->hyperas->-r requirements.txt (line 5)) (4.9.0)\n",
            "Requirement already satisfied: jupyter-server>=1.8 in /usr/local/lib/python3.10/dist-packages (from nbclassic>=0.4.7->notebook->jupyter->hyperas->-r requirements.txt (line 5)) (1.24.0)\n",
            "Requirement already satisfied: notebook-shim>=0.2.3 in /usr/local/lib/python3.10/dist-packages (from nbclassic>=0.4.7->notebook->jupyter->hyperas->-r requirements.txt (line 5)) (0.2.3)\n",
            "Requirement already satisfied: wcwidth in /usr/local/lib/python3.10/dist-packages (from prompt-toolkit!=3.0.0,!=3.0.1,<3.1.0,>=2.0.0->jupyter-console->jupyter->hyperas->-r requirements.txt (line 5)) (0.2.12)\n",
            "Requirement already satisfied: ptyprocess in /usr/local/lib/python3.10/dist-packages (from terminado>=0.8.3->notebook->jupyter->hyperas->-r requirements.txt (line 5)) (0.7.0)\n",
            "Requirement already satisfied: argon2-cffi-bindings in /usr/local/lib/python3.10/dist-packages (from argon2-cffi->notebook->jupyter->hyperas->-r requirements.txt (line 5)) (21.2.0)\n",
            "Requirement already satisfied: parso<0.9.0,>=0.8.3 in /usr/local/lib/python3.10/dist-packages (from jedi>=0.16->ipython>=5.0.0->ipykernel->jupyter->hyperas->-r requirements.txt (line 5)) (0.8.3)\n",
            "Requirement already satisfied: anyio<4,>=3.1.0 in /usr/local/lib/python3.10/dist-packages (from jupyter-server>=1.8->nbclassic>=0.4.7->notebook->jupyter->hyperas->-r requirements.txt (line 5)) (3.7.1)\n",
            "Requirement already satisfied: websocket-client in /usr/local/lib/python3.10/dist-packages (from jupyter-server>=1.8->nbclassic>=0.4.7->notebook->jupyter->hyperas->-r requirements.txt (line 5)) (1.6.4)\n",
            "Requirement already satisfied: cffi>=1.0.1 in /usr/local/lib/python3.10/dist-packages (from argon2-cffi-bindings->argon2-cffi->notebook->jupyter->hyperas->-r requirements.txt (line 5)) (1.16.0)\n",
            "Requirement already satisfied: idna>=2.8 in /usr/local/lib/python3.10/dist-packages (from anyio<4,>=3.1.0->jupyter-server>=1.8->nbclassic>=0.4.7->notebook->jupyter->hyperas->-r requirements.txt (line 5)) (3.6)\n",
            "Requirement already satisfied: sniffio>=1.1 in /usr/local/lib/python3.10/dist-packages (from anyio<4,>=3.1.0->jupyter-server>=1.8->nbclassic>=0.4.7->notebook->jupyter->hyperas->-r requirements.txt (line 5)) (1.3.0)\n",
            "Requirement already satisfied: exceptiongroup in /usr/local/lib/python3.10/dist-packages (from anyio<4,>=3.1.0->jupyter-server>=1.8->nbclassic>=0.4.7->notebook->jupyter->hyperas->-r requirements.txt (line 5)) (1.2.0)\n",
            "Requirement already satisfied: pycparser in /usr/local/lib/python3.10/dist-packages (from cffi>=1.0.1->argon2-cffi-bindings->argon2-cffi->notebook->jupyter->hyperas->-r requirements.txt (line 5)) (2.21)\n"
          ]
        }
      ]
    },
    {
      "cell_type": "code",
      "source": [
        "#être utilisée pour effectuer une inférence (prédiction) sur un modèle de détection d'objets.\n",
        "#inference.py : Il s'agit du script Python qui contient le code pour effectuer l'inférence à l'aide du modèle.\n",
        "#data.csv : Ce paramètre spécifie le chemin vers un fichier CSV qui contient les données sur lesquelles vous souhaitez effectuer l'inférence.\n",
        "#--model models/model@1535470106.json : Ce paramètre indique le chemin vers le fichier JSON qui définit l'architecture du modèle. Ce fichier contient généralement des informations sur la structure du réseau de neurones, les couches, etc.\n",
        "#--weights models/model@1535470106.h5 : Ce paramètre spécifie le chemin vers le fichier de poids du modèle. Ce fichier contient les valeurs apprises par le modèle pendant l'entraînement.\n",
        "#--results . : Ce paramètre indique le répertoire où les résultats de l'inférence seront stockés.\n",
        "!python inference.py --data ../object-detector/results/data/data.csv --model models/model@1535470106.json --weights models/model@1535470106.h5 --results ."
      ],
      "metadata": {
        "colab": {
          "base_uri": "https://localhost:8080/"
        },
        "id": "z7oqqNxsnCw3",
        "outputId": "319858a7-35d3-48da-a1af-395e2fa7dad5"
      },
      "execution_count": null,
      "outputs": [
        {
          "output_type": "stream",
          "name": "stdout",
          "text": [
            "2023-12-07 20:57:04.084889: E tensorflow/compiler/xla/stream_executor/cuda/cuda_dnn.cc:9342] Unable to register cuDNN factory: Attempting to register factory for plugin cuDNN when one has already been registered\n",
            "2023-12-07 20:57:04.084944: E tensorflow/compiler/xla/stream_executor/cuda/cuda_fft.cc:609] Unable to register cuFFT factory: Attempting to register factory for plugin cuFFT when one has already been registered\n",
            "2023-12-07 20:57:04.084988: E tensorflow/compiler/xla/stream_executor/cuda/cuda_blas.cc:1518] Unable to register cuBLAS factory: Attempting to register factory for plugin cuBLAS when one has already been registered\n",
            "2023-12-07 20:57:04.094064: I tensorflow/core/platform/cpu_feature_guard.cc:182] This TensorFlow binary is optimized to use available CPU instructions in performance-critical operations.\n",
            "To enable the following instructions: AVX2 FMA, in other operations, rebuild TensorFlow with the appropriate compiler flags.\n",
            "2023-12-07 20:57:05.300222: W tensorflow/compiler/tf2tensorrt/utils/py_utils.cc:38] TF-TRT Warning: Could not find TensorRT\n",
            "2023-12-07 20:57:06.803410: I tensorflow/compiler/xla/stream_executor/cuda/cuda_gpu_executor.cc:894] successful NUMA node read from SysFS had negative value (-1), but there must be at least one NUMA node, so returning NUMA node zero. See more at https://github.com/torvalds/linux/blob/v6.0/Documentation/ABI/testing/sysfs-bus-pci#L344-L355\n",
            "2023-12-07 20:57:07.117621: I tensorflow/compiler/xla/stream_executor/cuda/cuda_gpu_executor.cc:894] successful NUMA node read from SysFS had negative value (-1), but there must be at least one NUMA node, so returning NUMA node zero. See more at https://github.com/torvalds/linux/blob/v6.0/Documentation/ABI/testing/sysfs-bus-pci#L344-L355\n",
            "2023-12-07 20:57:07.117915: I tensorflow/compiler/xla/stream_executor/cuda/cuda_gpu_executor.cc:894] successful NUMA node read from SysFS had negative value (-1), but there must be at least one NUMA node, so returning NUMA node zero. See more at https://github.com/torvalds/linux/blob/v6.0/Documentation/ABI/testing/sysfs-bus-pci#L344-L355\n",
            "2023-12-07 20:57:07.118605: I tensorflow/compiler/xla/stream_executor/cuda/cuda_gpu_executor.cc:894] successful NUMA node read from SysFS had negative value (-1), but there must be at least one NUMA node, so returning NUMA node zero. See more at https://github.com/torvalds/linux/blob/v6.0/Documentation/ABI/testing/sysfs-bus-pci#L344-L355\n",
            "2023-12-07 20:57:07.118836: I tensorflow/compiler/xla/stream_executor/cuda/cuda_gpu_executor.cc:894] successful NUMA node read from SysFS had negative value (-1), but there must be at least one NUMA node, so returning NUMA node zero. See more at https://github.com/torvalds/linux/blob/v6.0/Documentation/ABI/testing/sysfs-bus-pci#L344-L355\n",
            "2023-12-07 20:57:07.119018: I tensorflow/compiler/xla/stream_executor/cuda/cuda_gpu_executor.cc:894] successful NUMA node read from SysFS had negative value (-1), but there must be at least one NUMA node, so returning NUMA node zero. See more at https://github.com/torvalds/linux/blob/v6.0/Documentation/ABI/testing/sysfs-bus-pci#L344-L355\n",
            "2023-12-07 20:57:09.467129: I tensorflow/compiler/xla/stream_executor/cuda/cuda_gpu_executor.cc:894] successful NUMA node read from SysFS had negative value (-1), but there must be at least one NUMA node, so returning NUMA node zero. See more at https://github.com/torvalds/linux/blob/v6.0/Documentation/ABI/testing/sysfs-bus-pci#L344-L355\n",
            "2023-12-07 20:57:09.467463: I tensorflow/compiler/xla/stream_executor/cuda/cuda_gpu_executor.cc:894] successful NUMA node read from SysFS had negative value (-1), but there must be at least one NUMA node, so returning NUMA node zero. See more at https://github.com/torvalds/linux/blob/v6.0/Documentation/ABI/testing/sysfs-bus-pci#L344-L355\n",
            "2023-12-07 20:57:09.467633: W tensorflow/core/common_runtime/gpu/gpu_bfc_allocator.cc:47] Overriding orig_value setting because the TF_FORCE_GPU_ALLOW_GROWTH environment variable is set. Original config value was 0.\n",
            "2023-12-07 20:57:09.467732: I tensorflow/compiler/xla/stream_executor/cuda/cuda_gpu_executor.cc:894] successful NUMA node read from SysFS had negative value (-1), but there must be at least one NUMA node, so returning NUMA node zero. See more at https://github.com/torvalds/linux/blob/v6.0/Documentation/ABI/testing/sysfs-bus-pci#L344-L355\n",
            "2023-12-07 20:57:09.467918: I tensorflow/core/common_runtime/gpu/gpu_device.cc:1886] Created device /job:localhost/replica:0/task:0/device:GPU:0 with 13742 MB memory:  -> device: 0, name: Tesla T4, pci bus id: 0000:00:04.0, compute capability: 7.5\n",
            "Loaded model from disk\n",
            "1/1 [==============================] - 4s 4s/step\n"
          ]
        }
      ]
    },
    {
      "cell_type": "code",
      "source": [
        "#utilisée pour visualiser les prédictions faites par un modèle de détection d'objets\n",
        "#visualizer.py : Il s'agit du script Python qui contient le code pour la visualisation des prédictions.\n",
        "#--data predictions.csv : Ce paramètre spécifie le chemin vers un fichier CSV (comma-separated values) qui contient les prédictions générées par le modèle.\n",
        "# Les prédictions peuvent inclure des informations telles que les coordonnées des boîtes englobantes, les scores de confiance, et les classes prédites.\n",
        "#-fps 90 : Ce paramètre spécifie la fréquence d'images par seconde (fps) lors de la visualisation.\n",
        "!python visualizer.py --data predictions.csv --frames ../object-detector/results/frames/ -fps 90 --results ."
      ],
      "metadata": {
        "id": "deAZ7zaZnFKv"
      },
      "execution_count": null,
      "outputs": []
    }
  ]
}